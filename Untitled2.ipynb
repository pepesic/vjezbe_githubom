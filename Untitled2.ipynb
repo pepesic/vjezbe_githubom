{
  "nbformat": 4,
  "nbformat_minor": 0,
  "metadata": {
    "colab": {
      "provenance": [],
      "authorship_tag": "ABX9TyMq02ZVY3t6yrHkZYZNuArJ",
      "include_colab_link": true
    },
    "kernelspec": {
      "name": "python3",
      "display_name": "Python 3"
    },
    "language_info": {
      "name": "python"
    }
  },
  "cells": [
    {
      "cell_type": "markdown",
      "metadata": {
        "id": "view-in-github",
        "colab_type": "text"
      },
      "source": [
        "<a href=\"https://colab.research.google.com/github/pepesic/vjezbe_githubom/blob/main/Untitled2.ipynb\" target=\"_parent\"><img src=\"https://colab.research.google.com/assets/colab-badge.svg\" alt=\"Open In Colab\"/></a>"
      ]
    },
    {
      "cell_type": "code",
      "execution_count": 2,
      "metadata": {
        "colab": {
          "base_uri": "https://localhost:8080/",
          "height": 69
        },
        "id": "SsVcIyz-7ZCH",
        "outputId": "4d39a319-ce61-4215-b5b1-d5bba200d89e"
      },
      "outputs": [
        {
          "output_type": "stream",
          "name": "stdout",
          "text": [
            "Requirement already satisfied: openpyxl in /usr/local/lib/python3.11/dist-packages (3.1.5)\n",
            "Requirement already satisfied: et-xmlfile in /usr/local/lib/python3.11/dist-packages (from openpyxl) (2.0.0)\n"
          ]
        },
        {
          "output_type": "display_data",
          "data": {
            "text/plain": [
              "<IPython.core.display.Javascript object>"
            ],
            "application/javascript": [
              "\n",
              "    async function download(id, filename, size) {\n",
              "      if (!google.colab.kernel.accessAllowed) {\n",
              "        return;\n",
              "      }\n",
              "      const div = document.createElement('div');\n",
              "      const label = document.createElement('label');\n",
              "      label.textContent = `Downloading \"${filename}\": `;\n",
              "      div.appendChild(label);\n",
              "      const progress = document.createElement('progress');\n",
              "      progress.max = size;\n",
              "      div.appendChild(progress);\n",
              "      document.body.appendChild(div);\n",
              "\n",
              "      const buffers = [];\n",
              "      let downloaded = 0;\n",
              "\n",
              "      const channel = await google.colab.kernel.comms.open(id);\n",
              "      // Send a message to notify the kernel that we're ready.\n",
              "      channel.send({})\n",
              "\n",
              "      for await (const message of channel.messages) {\n",
              "        // Send a message to notify the kernel that we're ready.\n",
              "        channel.send({})\n",
              "        if (message.buffers) {\n",
              "          for (const buffer of message.buffers) {\n",
              "            buffers.push(buffer);\n",
              "            downloaded += buffer.byteLength;\n",
              "            progress.value = downloaded;\n",
              "          }\n",
              "        }\n",
              "      }\n",
              "      const blob = new Blob(buffers, {type: 'application/binary'});\n",
              "      const a = document.createElement('a');\n",
              "      a.href = window.URL.createObjectURL(blob);\n",
              "      a.download = filename;\n",
              "      div.appendChild(a);\n",
              "      a.click();\n",
              "      div.remove();\n",
              "    }\n",
              "  "
            ]
          },
          "metadata": {}
        },
        {
          "output_type": "display_data",
          "data": {
            "text/plain": [
              "<IPython.core.display.Javascript object>"
            ],
            "application/javascript": [
              "download(\"download_936f0361-1bfe-457b-a4a8-97f528f4c834\", \"empty_excel_20250729_064716.xlsx\", 4784)"
            ]
          },
          "metadata": {}
        },
        {
          "output_type": "stream",
          "name": "stdout",
          "text": [
            "✅ Excel file created: empty_excel_20250729_064716.xlsx\n"
          ]
        }
      ],
      "source": [
        "\"\"\"\n",
        "# Install openpyxl (needed for Excel file handling)\n",
        "!pip install openpyxl\n",
        "\n",
        "import openpyxl\n",
        "from datetime import datetime\n",
        "from google.colab import files\n",
        "\n",
        "# Create a new workbook and sheet\n",
        "wb = openpyxl.Workbook()\n",
        "ws = wb.active\n",
        "ws.title = \"Sheet1\"  # Optional: name the sheet\n",
        "\n",
        "# Save the workbook to a file\n",
        "filename = f\"empty_excel_{datetime.now().strftime('%Y%m%d_%H%M%S')}.xlsx\"\n",
        "wb.save(filename)\n",
        "files.download(filename)\n",
        "\n",
        "print(f\"✅ Excel file created: {filename}\")\n",
        "\"\"\"\n",
        "\n",
        "# Install dependencies (only needed in environments like Colab or GitHub Actions runner)\n",
        "!pip install openpyxl\n",
        "\n",
        "import openpyxl\n",
        "from datetime import datetime\n",
        "from pathlib import Path\n",
        "\n",
        "# Define output directory (inside your repo's structure)\n",
        "output_dir = Path(\"vjezbe_githubom/.github/workflows/output_folder\")\n",
        "output_dir.mkdir(parents=True, exist_ok=True)  # Make sure the folder exists\n",
        "\n",
        "# Define filename and full path\n",
        "filename = f\"empty_excel_{datetime.now().strftime('%Y%m%d_%H%M%S')}.xlsx\"\n",
        "full_path = output_dir / filename\n",
        "\n",
        "# Create a new workbook and sheet\n",
        "wb = openpyxl.Workbook()\n",
        "ws = wb.active\n",
        "ws.title = \"Sheet1\"\n",
        "\n",
        "# Save the workbook to the specified path\n",
        "wb.save(full_path)\n",
        "\n",
        "# Log the result\n",
        "print(f\"✅ Excel file created and saved to: {full_path.resolve()}\")"
      ]
    }
  ]
}